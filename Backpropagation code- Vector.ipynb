{
 "cells": [
  {
   "cell_type": "code",
   "execution_count": 1,
   "id": "6c0d4567",
   "metadata": {},
   "outputs": [],
   "source": [
    "import numpy as np"
   ]
  },
  {
   "cell_type": "code",
   "execution_count": 2,
   "id": "53817e5e",
   "metadata": {},
   "outputs": [],
   "source": [
    "def sigmoid(s):\n",
    "    sig = 1/(1+np.exp(-s))\n",
    "    return sig"
   ]
  },
  {
   "cell_type": "code",
   "execution_count": 6,
   "id": "d7cbad0f",
   "metadata": {},
   "outputs": [],
   "source": [
    "def backprop(W,x):\n",
    "    t = np.dot(W,x)\n",
    "    q = sigmoid(t)\n",
    "    m = np.array([[(q[0]**2)]+[(q[1]**2)]+[(q[2]**2)]])\n",
    "    L = (q[0]**2)+(q[1]**2)+(q[2]**2)\n",
    "    dL_dL =1\n",
    "    dL_dm = 2*q\n",
    "    dm_dq = (1-q)*q\n",
    "    dL_dq = dL_dm*dm_dq\n",
    "    dq_dw = np.transpose(x)\n",
    "    dL_dw = dL_dm*dm_dq*dq_dw\n",
    "    dq_dx = np.transpose(W)\n",
    "    dL_dx = np.matmul(dq_dx,dL_dq)\n",
    "    return print(f' Gradient wrt W = {dL_dw} \\n Gradient wrt x = {dL_dx}')"
   ]
  },
  {
   "cell_type": "code",
   "execution_count": 7,
   "id": "a1f70633",
   "metadata": {},
   "outputs": [],
   "source": [
    "W = np.array([[0.4,0.6,0.7],[0.8,0.6,0.2],[0.1,0.3,0.5]])\n",
    "x = np.array([[0.7],[0.8],[0.6]])"
   ]
  },
  {
   "cell_type": "code",
   "execution_count": 8,
   "id": "a41d45ab",
   "metadata": {},
   "outputs": [
    {
     "name": "stdout",
     "output_type": "stream",
     "text": [
      " Gradient wrt W = [[0.19255551 0.22006344 0.16504758]\n",
      " [0.19367337 0.221341   0.16600575]\n",
      " [0.20692568 0.23648649 0.17736487]] \n",
      " Gradient wrt x = [[0.36093353]\n",
      " [0.41973576]\n",
      " [0.39569482]]\n"
     ]
    }
   ],
   "source": [
    "backprop(W,x)"
   ]
  }
 ],
 "metadata": {
  "kernelspec": {
   "display_name": "Python 3 (ipykernel)",
   "language": "python",
   "name": "python3"
  },
  "language_info": {
   "codemirror_mode": {
    "name": "ipython",
    "version": 3
   },
   "file_extension": ".py",
   "mimetype": "text/x-python",
   "name": "python",
   "nbconvert_exporter": "python",
   "pygments_lexer": "ipython3",
   "version": "3.9.12"
  }
 },
 "nbformat": 4,
 "nbformat_minor": 5
}
