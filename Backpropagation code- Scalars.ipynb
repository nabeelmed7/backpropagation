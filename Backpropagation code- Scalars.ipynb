{
 "cells": [
  {
   "cell_type": "code",
   "execution_count": 2,
   "id": "e9851f76",
   "metadata": {},
   "outputs": [],
   "source": [
    "import math"
   ]
  },
  {
   "cell_type": "code",
   "execution_count": 14,
   "id": "36fa3eff",
   "metadata": {},
   "outputs": [],
   "source": [
    "def back_prop(x1,w1,x2,w2):\n",
    "    # forward pass\n",
    "    a = x1*w1\n",
    "    b = math.sin(a)*math.sin(a)\n",
    "    c = x2*w2\n",
    "    d = math.cos(c)\n",
    "    e = b + d\n",
    "    f = 2 + e\n",
    "    l = 1/f\n",
    "    # back propagation\n",
    "    dl_dl = 1\n",
    "    dl_df = -1/(f**2)\n",
    "    df_de = 1\n",
    "    dl_de = dl_df*df_de\n",
    "    de_db = 1\n",
    "    dl_db = dl_df*df_de*de_db\n",
    "    db_da = math.sin(2*a)\n",
    "    dl_da = dl_df*df_de*de_db*db_da\n",
    "    da_dw1 = x1\n",
    "    dl_dw1 = dl_df*df_de*de_db*db_da*da_dw1\n",
    "    de_dd = 1\n",
    "    dl_dd = dl_df*df_de*de_dd\n",
    "    dd_dc = -math.sin(c)\n",
    "    dl_dc = dl_df*df_de*de_dd*dd_dc\n",
    "    dc_dw2 = x2\n",
    "    dl_dw2 = dl_df*df_de*de_dd*dd_dc*dc_dw2\n",
    "    return print(f'Gradient wrt to w1 is {dl_dw1} and gradient wrt w2 is {dl_dw2}')"
   ]
  },
  {
   "cell_type": "code",
   "execution_count": 15,
   "id": "04da16e7",
   "metadata": {},
   "outputs": [
    {
     "name": "stdout",
     "output_type": "stream",
     "text": [
      "Gradient wrt to w1 is 0.1736210239731667 and gradient wrt w2 is 0.5908106203102916\n"
     ]
    }
   ],
   "source": [
    "back_prop(2,3,4,5)"
   ]
  }
 ],
 "metadata": {
  "kernelspec": {
   "display_name": "Python 3 (ipykernel)",
   "language": "python",
   "name": "python3"
  },
  "language_info": {
   "codemirror_mode": {
    "name": "ipython",
    "version": 3
   },
   "file_extension": ".py",
   "mimetype": "text/x-python",
   "name": "python",
   "nbconvert_exporter": "python",
   "pygments_lexer": "ipython3",
   "version": "3.9.12"
  }
 },
 "nbformat": 4,
 "nbformat_minor": 5
}
